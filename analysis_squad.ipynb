{
 "cells": [
  {
   "cell_type": "code",
   "execution_count": 1,
   "metadata": {},
   "outputs": [
    {
     "name": "stderr",
     "output_type": "stream",
     "text": [
      "[nltk_data] Downloading package wordnet to\n",
      "[nltk_data]     /home/mila/f/floresl/nltk_data...\n",
      "[nltk_data]   Package wordnet is already up-to-date!\n",
      "[nltk_data] Downloading package punkt_tab to\n",
      "[nltk_data]     /home/mila/f/floresl/nltk_data...\n",
      "[nltk_data]   Package punkt_tab is already up-to-date!\n",
      "[nltk_data] Downloading package omw-1.4 to\n",
      "[nltk_data]     /home/mila/f/floresl/nltk_data...\n",
      "[nltk_data]   Package omw-1.4 is already up-to-date!\n"
     ]
    }
   ],
   "source": [
    "import pandas as pd\n",
    "from utils_analysis import prepare_scores"
   ]
  },
  {
   "cell_type": "code",
   "execution_count": 8,
   "metadata": {},
   "outputs": [
    {
     "name": "stderr",
     "output_type": "stream",
     "text": [
      "/home/mila/f/floresl/beam-search/utils_analysis.py:33: ConstantInputWarning: An input array is constant; the correlation coefficient is not defined.\n",
      "  abs(spearmanr(ground_truth_score, confidence_score_dict[str(k)]).statistic)\n"
     ]
    }
   ],
   "source": [
    "df = pd.read_csv(\"data/squad/test.csv\")\n",
    "\n",
    "# \"results/bart/r1/bart-base_data_squad_checkpoint-26280_squad.json\",\n",
    "# \"results/bart/r2/bart-base_data_squad_checkpoint-26280_squad.json\",\n",
    "# \"results/t5/r1/flan-t5-base_data_squad_checkpoint-26280_squad.json\",\n",
    "# \"results/t5/r2/flan-t5-base_data_squad_checkpoint-26280_squad.json\",\n",
    "\n",
    "df_scores, beam_search_results = prepare_scores(\n",
    "    \"results/t5/r2/flan-t5-base_data_squad_checkpoint-26280_squad.json\",\n",
    "    df[\"target\"],\n",
    "    \"f1\",\n",
    ")"
   ]
  },
  {
   "cell_type": "code",
   "execution_count": 9,
   "metadata": {},
   "outputs": [
    {
     "data": {
      "text/plain": [
       "length_normalized_log_probs    0.444731\n",
       "mean_token_entropy             0.007599\n",
       "dropout_bleu_variance         -0.247927\n",
       "dropout_meteor_score           0.216853\n",
       "dropout_entropy               -0.269248\n",
       "dropout_disagreement          -0.369527\n",
       "f1                             1.000000\n",
       "beam_score_ratios_1            0.409458\n",
       "beam_score_log_probs_1        -0.241033\n",
       "beam_score_top_k_1             0.072919\n",
       "beam_score_impt_wt_1          -0.149944\n",
       "Name: f1, dtype: float64"
      ]
     },
     "execution_count": 9,
     "metadata": {},
     "output_type": "execute_result"
    }
   ],
   "source": [
    "df_scores.drop([\"sentences\", \"dropout_sentences\"], axis=1).corr(method=\"spearman\")[\"f1\"]"
   ]
  },
  {
   "cell_type": "code",
   "execution_count": null,
   "metadata": {},
   "outputs": [],
   "source": []
  },
  {
   "cell_type": "code",
   "execution_count": null,
   "metadata": {},
   "outputs": [],
   "source": []
  }
 ],
 "metadata": {
  "kernelspec": {
   "display_name": "Python 3",
   "language": "python",
   "name": "python3"
  },
  "language_info": {
   "codemirror_mode": {
    "name": "ipython",
    "version": 3
   },
   "file_extension": ".py",
   "mimetype": "text/x-python",
   "name": "python",
   "nbconvert_exporter": "python",
   "pygments_lexer": "ipython3",
   "version": "3.12.5"
  }
 },
 "nbformat": 4,
 "nbformat_minor": 2
}
