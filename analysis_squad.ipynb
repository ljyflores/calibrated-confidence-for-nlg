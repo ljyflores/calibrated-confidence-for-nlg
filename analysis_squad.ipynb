{
 "cells": [
  {
   "cell_type": "code",
   "execution_count": 1,
   "metadata": {},
   "outputs": [
    {
     "name": "stderr",
     "output_type": "stream",
     "text": [
      "[nltk_data] Downloading package wordnet to\n",
      "[nltk_data]     /home/mila/f/floresl/nltk_data...\n",
      "[nltk_data]   Package wordnet is already up-to-date!\n",
      "[nltk_data] Downloading package punkt_tab to\n",
      "[nltk_data]     /home/mila/f/floresl/nltk_data...\n",
      "[nltk_data]   Package punkt_tab is already up-to-date!\n",
      "[nltk_data] Downloading package omw-1.4 to\n",
      "[nltk_data]     /home/mila/f/floresl/nltk_data...\n",
      "[nltk_data]   Package omw-1.4 is already up-to-date!\n"
     ]
    }
   ],
   "source": [
    "import pandas as pd\n",
    "from utils_analysis import prepare_scores, plot_correlation\n",
    "import matplotlib.pyplot as plt\n",
    "import numpy as np"
   ]
  },
  {
   "cell_type": "code",
   "execution_count": 2,
   "metadata": {},
   "outputs": [
    {
     "name": "stderr",
     "output_type": "stream",
     "text": [
      "/home/mila/f/floresl/beam-search/utils_analysis.py:37: ConstantInputWarning: An input array is constant; the correlation coefficient is not defined.\n",
      "  abs(spearmanr(ground_truth_score, confidence_score_dict[str(k)]).statistic)  # type: ignore\n"
     ]
    }
   ],
   "source": [
    "df = pd.read_csv(\"data/squad/test.csv\")\n",
    "\n",
    "# \"results/bart/r1/bart-base_data_squad_checkpoint-26280_squad.json\",\n",
    "# \"results/bart/r2/bart-base_data_squad_checkpoint-26280_squad.json\",\n",
    "# \"results/bart/r3/bart-base_data_squad_checkpoint-26280_squad.json\",\n",
    "# \"results/t5/r1/flan-t5-base_data_squad_checkpoint-26280_squad.json\",\n",
    "# \"results/t5/r2/flan-t5-base_data_squad_checkpoint-26280_squad.json\",\n",
    "# \"results/t5/r3/flan-t5-base_data_squad_checkpoint-26280_squad.json\",\n",
    "\n",
    "df_scores, beam_search_results = prepare_scores(\n",
    "    \"results/t5/r3/flan-t5-base_data_squad_checkpoint-26280_squad.json\",\n",
    "    df[\"target\"],\n",
    "    \"f1\",\n",
    ")"
   ]
  },
  {
   "cell_type": "code",
   "execution_count": 3,
   "metadata": {},
   "outputs": [
    {
     "data": {
      "text/plain": [
       "length_normalized_log_probs    0.444738\n",
       "mean_token_entropy             0.007599\n",
       "dropout_bleu_variance         -0.282156\n",
       "dropout_meteor_score           0.221183\n",
       "dropout_entropy               -0.252736\n",
       "dropout_disagreement          -0.389573\n",
       "f1                             1.000000\n",
       "beam_score_ratios_1            0.409458\n",
       "beam_score_log_probs_1        -0.241033\n",
       "beam_score_top_k_1             0.072919\n",
       "beam_score_impt_wt_1          -0.149944\n",
       "Name: f1, dtype: float64"
      ]
     },
     "execution_count": 3,
     "metadata": {},
     "output_type": "execute_result"
    }
   ],
   "source": [
    "df_scores.drop([\"sentences\", \"dropout_sentences\"], axis=1).corr(method=\"spearman\")[\"f1\"]"
   ]
  },
  {
   "cell_type": "code",
   "execution_count": 4,
   "metadata": {},
   "outputs": [],
   "source": [
    "beam_score_log_probs = pd.DataFrame(beam_search_results[\"beam_score_log_probs\"])\n",
    "worst_rouge_idxs = df_scores.sort_values(by=\"f1\").index[:100]\n",
    "best_rouge_idxs = df_scores.sort_values(by=\"f1\").index[::-1][:100]"
   ]
  },
  {
   "cell_type": "code",
   "execution_count": 5,
   "metadata": {},
   "outputs": [],
   "source": [
    "from utils_tail_probs import softmax, tail_index\n",
    "from scipy.stats import spearmanr\n",
    "from scipy.spatial.distance import jensenshannon"
   ]
  },
  {
   "cell_type": "code",
   "execution_count": 14,
   "metadata": {},
   "outputs": [
    {
     "data": {
      "text/plain": [
       "SignificanceResult(statistic=0.42716153394871137, pvalue=1.2879423468677025e-45)"
      ]
     },
     "execution_count": 14,
     "metadata": {},
     "output_type": "execute_result"
    }
   ],
   "source": [
    "tail_indices = []\n",
    "for i in range(len(beam_score_log_probs)):\n",
    "    probs = softmax(beam_score_log_probs.iloc[i].to_numpy(), temperature=0.005)\n",
    "    tail_indices.append(tail_index(probs))\n",
    "\n",
    "spearmanr(tail_indices, df_scores[\"f1\"])"
   ]
  },
  {
   "cell_type": "code",
   "execution_count": 16,
   "metadata": {},
   "outputs": [],
   "source": [
    "import json\n",
    "\n",
    "baseline_probs = json.load(\n",
    "    open(\n",
    "        \"/home/mila/f/floresl/beam-search/results/t5_baseline/google_flan-t5-base_hotpotqa.json\",\n",
    "        \"r\",\n",
    "    )\n",
    ")"
   ]
  },
  {
   "cell_type": "code",
   "execution_count": 17,
   "metadata": {},
   "outputs": [],
   "source": [
    "baseline_log_probs = baseline_probs[\"beam_score_log_probs\"]\n",
    "baseline_log_probs = pd.DataFrame(baseline_log_probs).values\n",
    "\n",
    "beam_score_log_probs = beam_score_log_probs.values"
   ]
  },
  {
   "cell_type": "code",
   "execution_count": 21,
   "metadata": {},
   "outputs": [
    {
     "data": {
      "text/plain": [
       "SignificanceResult(statistic=0.3346126509540507, pvalue=1.3829398691268918e-27)"
      ]
     },
     "execution_count": 21,
     "metadata": {},
     "output_type": "execute_result"
    }
   ],
   "source": [
    "js_distances = []\n",
    "for i in range(1000):\n",
    "    js = jensenshannon(\n",
    "        softmax(beam_score_log_probs[i], temperature=0.05),\n",
    "        softmax(baseline_log_probs[i], temperature=0.05),\n",
    "    )\n",
    "    js_distances.append(js)\n",
    "spearmanr(js_distances, df_scores[\"f1\"])"
   ]
  },
  {
   "cell_type": "code",
   "execution_count": 32,
   "metadata": {},
   "outputs": [
    {
     "data": {
      "text/plain": [
       "SignificanceResult(statistic=0.3494262268209138, pvalue=4.317629104247729e-30)"
      ]
     },
     "execution_count": 32,
     "metadata": {},
     "output_type": "execute_result"
    }
   ],
   "source": [
    "js_distances = []\n",
    "for i in range(1000):\n",
    "    js = jensenshannon(\n",
    "        softmax(beam_score_log_probs[i], temperature=0.05), np.array([1 / 100] * 100)\n",
    "    )\n",
    "    js_distances.append(js)\n",
    "spearmanr(js_distances, df_scores[\"f1\"])"
   ]
  },
  {
   "cell_type": "code",
   "execution_count": null,
   "metadata": {},
   "outputs": [],
   "source": []
  }
 ],
 "metadata": {
  "kernelspec": {
   "display_name": "Python 3",
   "language": "python",
   "name": "python3"
  },
  "language_info": {
   "codemirror_mode": {
    "name": "ipython",
    "version": 3
   },
   "file_extension": ".py",
   "mimetype": "text/x-python",
   "name": "python",
   "nbconvert_exporter": "python",
   "pygments_lexer": "ipython3",
   "version": "3.12.5"
  }
 },
 "nbformat": 4,
 "nbformat_minor": 2
}
