{
 "cells": [
  {
   "cell_type": "code",
   "execution_count": 1,
   "metadata": {},
   "outputs": [
    {
     "name": "stderr",
     "output_type": "stream",
     "text": [
      "[nltk_data] Downloading package wordnet to\n",
      "[nltk_data]     /home/mila/f/floresl/nltk_data...\n",
      "[nltk_data]   Package wordnet is already up-to-date!\n",
      "[nltk_data] Downloading package punkt_tab to\n",
      "[nltk_data]     /home/mila/f/floresl/nltk_data...\n",
      "[nltk_data]   Package punkt_tab is already up-to-date!\n",
      "[nltk_data] Downloading package omw-1.4 to\n",
      "[nltk_data]     /home/mila/f/floresl/nltk_data...\n",
      "[nltk_data]   Package omw-1.4 is already up-to-date!\n"
     ]
    }
   ],
   "source": [
    "import pandas as pd\n",
    "from utils_analysis import prepare_scores, plot_correlation\n",
    "import matplotlib.pyplot as plt\n",
    "import numpy as np"
   ]
  },
  {
   "cell_type": "code",
   "execution_count": 27,
   "metadata": {},
   "outputs": [
    {
     "name": "stderr",
     "output_type": "stream",
     "text": [
      "/home/mila/f/floresl/beam-search/utils_analysis.py:37: ConstantInputWarning: An input array is constant; the correlation coefficient is not defined.\n",
      "  abs(spearmanr(ground_truth_score, confidence_score_dict[str(k)]).statistic)  # type: ignore\n"
     ]
    }
   ],
   "source": [
    "df = pd.read_csv(\"data/squad/test.csv\")\n",
    "\n",
    "# \"results/bart/r1/bart-base_data_squad_checkpoint-26280_squad.json\",\n",
    "# \"results/bart/r2/bart-base_data_squad_checkpoint-26280_squad.json\",\n",
    "# \"results/bart/r3/bart-base_data_squad_checkpoint-26280_squad.json\",\n",
    "# \"results/t5/r1/flan-t5-base_data_squad_checkpoint-26280_squad.json\",\n",
    "# \"results/t5/r2/flan-t5-base_data_squad_checkpoint-26280_squad.json\",\n",
    "# \"results/t5/r3/flan-t5-base_data_squad_checkpoint-26280_squad.json\",\n",
    "\n",
    "df_scores, beam_search_results = prepare_scores(\n",
    "    \"results/bart/r3/bart-base_data_squad_checkpoint-26280_squad.json\",\n",
    "    df[\"target\"],\n",
    "    \"f1\",\n",
    ")"
   ]
  },
  {
   "cell_type": "code",
   "execution_count": 28,
   "metadata": {},
   "outputs": [
    {
     "data": {
      "text/plain": [
       "length_normalized_log_probs    0.557568\n",
       "mean_token_entropy            -0.058177\n",
       "dropout_bleu_variance         -0.221837\n",
       "dropout_meteor_score           0.376092\n",
       "dropout_entropy               -0.440237\n",
       "dropout_disagreement          -0.486858\n",
       "f1                             1.000000\n",
       "beam_score_ratios_36           0.523396\n",
       "beam_score_log_probs_36       -0.186909\n",
       "beam_score_top_k_36           -0.181422\n",
       "beam_score_impt_wt_36          0.176438\n",
       "Name: f1, dtype: float64"
      ]
     },
     "execution_count": 28,
     "metadata": {},
     "output_type": "execute_result"
    }
   ],
   "source": [
    "df_scores.drop([\"sentences\", \"dropout_sentences\"], axis=1).corr(method=\"spearman\")[\"f1\"]"
   ]
  },
  {
   "cell_type": "code",
   "execution_count": 29,
   "metadata": {},
   "outputs": [],
   "source": [
    "beam_score_log_probs = pd.DataFrame(beam_search_results[\"beam_score_log_probs\"])\n",
    "worst_rouge_idxs = df_scores.sort_values(by=\"f1\").index[:100]\n",
    "best_rouge_idxs = df_scores.sort_values(by=\"f1\").index[::-1][:100]"
   ]
  },
  {
   "cell_type": "code",
   "execution_count": 30,
   "metadata": {},
   "outputs": [],
   "source": [
    "from utils_analysis import plot_sequence_probs\n",
    "from utils_tail_probs import softmax"
   ]
  },
  {
   "cell_type": "code",
   "execution_count": 31,
   "metadata": {},
   "outputs": [
    {
     "data": {
      "image/png": "[encoded data removed]",
      "text/plain": [
       "<Figure size 640x480 with 2 Axes>"
      ]
     },
     "metadata": {},
     "output_type": "display_data"
    }
   ],
   "source": [
    "i = 10\n",
    "plot_sequence_probs(\n",
    "    beam_score_log_probs.iloc[best_rouge_idxs[i]],\n",
    "    beam_score_log_probs.iloc[worst_rouge_idxs[i]],\n",
    "    seq_len=200,\n",
    ")"
   ]
  },
  {
   "cell_type": "code",
   "execution_count": 32,
   "metadata": {},
   "outputs": [],
   "source": [
    "from utils_tail_probs import softmax, tail_index\n",
    "from scipy.stats import spearmanr"
   ]
  },
  {
   "cell_type": "code",
   "execution_count": 47,
   "metadata": {},
   "outputs": [
    {
     "data": {
      "text/plain": [
       "SignificanceResult(statistic=0.5177262777826122, pvalue=1.164198494245449e-69)"
      ]
     },
     "execution_count": 47,
     "metadata": {},
     "output_type": "execute_result"
    }
   ],
   "source": [
    "tail_indices = []\n",
    "for i in range(len(beam_score_log_probs)):\n",
    "    probs = softmax(200 * beam_score_log_probs.iloc[i].to_numpy(), temperature=1)\n",
    "    tail_indices.append(tail_index(probs))\n",
    "\n",
    "spearmanr(tail_indices, df_scores[\"f1\"])"
   ]
  },
  {
   "cell_type": "code",
   "execution_count": null,
   "metadata": {},
   "outputs": [],
   "source": []
  }
 ],
 "metadata": {
  "kernelspec": {
   "display_name": "Python 3",
   "language": "python",
   "name": "python3"
  },
  "language_info": {
   "codemirror_mode": {
    "name": "ipython",
    "version": 3
   },
   "file_extension": ".py",
   "mimetype": "text/x-python",
   "name": "python",
   "nbconvert_exporter": "python",
   "pygments_lexer": "ipython3",
   "version": "3.12.5"
  }
 },
 "nbformat": 4,
 "nbformat_minor": 2
}
