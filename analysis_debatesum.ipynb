{
 "cells": [
  {
   "cell_type": "code",
   "execution_count": 1,
   "metadata": {},
   "outputs": [
    {
     "name": "stderr",
     "output_type": "stream",
     "text": [
      "[nltk_data] Downloading package wordnet to\n",
      "[nltk_data]     /home/mila/f/floresl/nltk_data...\n",
      "[nltk_data]   Package wordnet is already up-to-date!\n",
      "[nltk_data] Downloading package punkt_tab to\n",
      "[nltk_data]     /home/mila/f/floresl/nltk_data...\n",
      "[nltk_data]   Package punkt_tab is already up-to-date!\n",
      "[nltk_data] Downloading package omw-1.4 to\n",
      "[nltk_data]     /home/mila/f/floresl/nltk_data...\n",
      "[nltk_data]   Package omw-1.4 is already up-to-date!\n"
     ]
    }
   ],
   "source": [
    "import pandas as pd\n",
    "from utils_analysis import prepare_scores"
   ]
  },
  {
   "cell_type": "code",
   "execution_count": 2,
   "metadata": {},
   "outputs": [
    {
     "name": "stderr",
     "output_type": "stream",
     "text": [
      "/home/mila/f/floresl/beam-search/utils_analysis.py:33: ConstantInputWarning: An input array is constant; the correlation coefficient is not defined.\n",
      "  abs(spearmanr(ground_truth_score, confidence_score_dict[str(k)]).statistic)\n"
     ]
    }
   ],
   "source": [
    "df = pd.read_csv(\"data/debatesum/test.csv\")\n",
    "\n",
    "df_scores, beam_search_results = prepare_scores(\n",
    "    \"results/t5/flan-t5-base_data_debatesum_checkpoint-1500_debatesum.json\",\n",
    "    df[\"target\"],\n",
    "    \"rougeL\",\n",
    ")"
   ]
  },
  {
   "cell_type": "code",
   "execution_count": 3,
   "metadata": {},
   "outputs": [
    {
     "data": {
      "text/plain": [
       "length_normalized_log_probs         -0.247232\n",
       "mean_token_entropy                   0.247735\n",
       "dropout_bleu_variance               -0.009334\n",
       "dropout_meteor_score                 0.042772\n",
       "dropout_entropy                      0.031585\n",
       "dropout_disagreement                 0.083677\n",
       "rougeL                               1.000000\n",
       "beam_score_ratios_94                 0.295849\n",
       "beam_score_log_probs_96             -0.257680\n",
       "beam_score_top_k_99                 -0.253832\n",
       "beam_score_importance_weighted_99    0.253788\n",
       "Name: rougeL, dtype: float64"
      ]
     },
     "execution_count": 3,
     "metadata": {},
     "output_type": "execute_result"
    }
   ],
   "source": [
    "df_scores.drop([\"sentences\", \"dropout_sentences\"], axis=1).corr(method=\"spearman\")[\n",
    "    \"rougeL\"\n",
    "]"
   ]
  }
 ],
 "metadata": {
  "kernelspec": {
   "display_name": "Python 3",
   "language": "python",
   "name": "python3"
  },
  "language_info": {
   "codemirror_mode": {
    "name": "ipython",
    "version": 3
   },
   "file_extension": ".py",
   "mimetype": "text/x-python",
   "name": "python",
   "nbconvert_exporter": "python",
   "pygments_lexer": "ipython3",
   "version": "3.12.5"
  }
 },
 "nbformat": 4,
 "nbformat_minor": 2
}
