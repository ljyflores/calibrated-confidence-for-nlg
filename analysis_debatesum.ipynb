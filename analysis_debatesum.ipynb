{
 "cells": [
  {
   "cell_type": "code",
   "execution_count": 1,
   "metadata": {},
   "outputs": [
    {
     "name": "stderr",
     "output_type": "stream",
     "text": [
      "[nltk_data] Downloading package wordnet to\n",
      "[nltk_data]     /home/mila/f/floresl/nltk_data...\n",
      "[nltk_data]   Package wordnet is already up-to-date!\n",
      "[nltk_data] Downloading package punkt_tab to\n",
      "[nltk_data]     /home/mila/f/floresl/nltk_data...\n",
      "[nltk_data]   Package punkt_tab is already up-to-date!\n",
      "[nltk_data] Downloading package omw-1.4 to\n",
      "[nltk_data]     /home/mila/f/floresl/nltk_data...\n",
      "[nltk_data]   Package omw-1.4 is already up-to-date!\n"
     ]
    }
   ],
   "source": [
    "import pandas as pd\n",
    "from utils_analysis import prepare_scores\n",
    "import matplotlib.pyplot as plt\n",
    "import numpy as np"
   ]
  },
  {
   "cell_type": "code",
   "execution_count": 45,
   "metadata": {},
   "outputs": [
    {
     "name": "stderr",
     "output_type": "stream",
     "text": [
      "/home/mila/f/floresl/beam-search/utils_analysis.py:37: ConstantInputWarning: An input array is constant; the correlation coefficient is not defined.\n",
      "  abs(spearmanr(ground_truth_score, confidence_score_dict[str(k)]).statistic)  # type: ignore\n"
     ]
    }
   ],
   "source": [
    "df = pd.read_csv(\"data/debatesum/test.csv\")\n",
    "\n",
    "# \"results/bart/r1/bart-base_data_debatesum_checkpoint-1500_debatesum.json\",\n",
    "# \"results/bart/r2/bart-base_data_debatesum_checkpoint-1500_debatesum.json\",\n",
    "# \"results/bart/r3/bart-base_data_debatesum_checkpoint-1500_debatesum.json\",\n",
    "# \"results/t5/r1/flan-t5-base_data_debatesum_checkpoint-1500_debatesum.json\",\n",
    "# \"results/t5/r2/flan-t5-base_data_debatesum_checkpoint-1500_debatesum.json\",\n",
    "# \"results/t5/r3/flan-t5-base_data_debatesum_checkpoint-1500_debatesum.json\",\n",
    "\n",
    "df_scores, beam_search_results = prepare_scores(\n",
    "    \"results/t5/r1/flan-t5-base_data_debatesum_checkpoint-1500_debatesum.json\",\n",
    "    df[\"target\"],\n",
    "    \"rougeL\",\n",
    ")"
   ]
  },
  {
   "cell_type": "code",
   "execution_count": 46,
   "metadata": {},
   "outputs": [],
   "source": [
    "beam_score_log_probs = pd.DataFrame(beam_search_results[\"beam_score_log_probs\"])\n",
    "worst_rouge_idxs = df_scores.sort_values(by=\"rougeL\").index[:100]\n",
    "best_rouge_idxs = df_scores.sort_values(by=\"rougeL\").index[::-1][:100]"
   ]
  },
  {
   "cell_type": "code",
   "execution_count": 47,
   "metadata": {},
   "outputs": [],
   "source": [
    "# plt.bar(\n",
    "#     x=list(range(1, 101)),\n",
    "#     height=np.exp(beam_score_log_probs.loc[worst_rouge_idxs[0]]),\n",
    "# )\n",
    "# plt.xlabel(\"Beam Number\")\n",
    "# plt.ylabel(\"Joint Sequence Token Probability\")"
   ]
  },
  {
   "cell_type": "code",
   "execution_count": 48,
   "metadata": {},
   "outputs": [],
   "source": [
    "# plt.bar(\n",
    "#     x=list(range(1, 101)),\n",
    "#     height=np.exp(beam_score_log_probs.loc[best_rouge_idxs[-1]]),\n",
    "# )\n",
    "# plt.xlabel(\"Beam Number\")\n",
    "# plt.ylabel(\"Joint Sequence Token Probability\")"
   ]
  },
  {
   "cell_type": "code",
   "execution_count": 49,
   "metadata": {},
   "outputs": [
    {
     "data": {
      "text/plain": [
       "length_normalized_log_probs   -0.247232\n",
       "mean_token_entropy             0.247735\n",
       "dropout_bleu_variance         -0.009334\n",
       "dropout_meteor_score           0.042772\n",
       "dropout_entropy                0.031585\n",
       "dropout_disagreement           0.083677\n",
       "rougeL                         1.000000\n",
       "beam_score_ratios_94           0.295849\n",
       "beam_score_log_probs_94       -0.257584\n",
       "beam_score_top_k_94           -0.253605\n",
       "beam_score_impt_wt_94          0.253581\n",
       "Name: rougeL, dtype: float64"
      ]
     },
     "execution_count": 49,
     "metadata": {},
     "output_type": "execute_result"
    }
   ],
   "source": [
    "df_scores.drop([\"sentences\", \"dropout_sentences\"], axis=1).corr(method=\"spearman\")[\n",
    "    \"rougeL\"\n",
    "]"
   ]
  },
  {
   "cell_type": "code",
   "execution_count": 50,
   "metadata": {},
   "outputs": [],
   "source": [
    "from utils_tail_probs import softmax, tail_index\n",
    "from scipy.stats import spearmanr"
   ]
  },
  {
   "cell_type": "code",
   "execution_count": 51,
   "metadata": {},
   "outputs": [
    {
     "data": {
      "text/plain": [
       "SignificanceResult(statistic=0.3540283266320829, pvalue=6.745576660930582e-31)"
      ]
     },
     "execution_count": 51,
     "metadata": {},
     "output_type": "execute_result"
    }
   ],
   "source": [
    "tail_indices = []\n",
    "for i in range(len(beam_score_log_probs)):\n",
    "    probs = softmax(beam_score_log_probs.iloc[i].to_numpy(), temperature=1)\n",
    "    tail_indices.append(tail_index(probs))\n",
    "\n",
    "spearmanr(tail_indices, df_scores[\"rougeL\"])"
   ]
  },
  {
   "cell_type": "code",
   "execution_count": 2,
   "metadata": {},
   "outputs": [],
   "source": [
    "import json\n",
    "\n",
    "baseline_probs = json.load(\n",
    "    open(\n",
    "        \"/home/mila/f/floresl/beam-search/results/bart_baseline/facebook_bart-base_debatesum.json\",\n",
    "        \"r\",\n",
    "    )\n",
    ")"
   ]
  },
  {
   "cell_type": "code",
   "execution_count": 53,
   "metadata": {},
   "outputs": [],
   "source": [
    "baseline_log_probs = baseline_probs[\"beam_score_log_probs\"]\n",
    "baseline_log_probs = pd.DataFrame(baseline_log_probs).values\n",
    "\n",
    "beam_score_log_probs = beam_score_log_probs.values"
   ]
  },
  {
   "cell_type": "code",
   "execution_count": 54,
   "metadata": {},
   "outputs": [],
   "source": [
    "from scipy.spatial.distance import jensenshannon"
   ]
  },
  {
   "cell_type": "code",
   "execution_count": 55,
   "metadata": {},
   "outputs": [
    {
     "data": {
      "text/plain": [
       "SignificanceResult(statistic=0.3516849511863946, pvalue=1.7426765223803198e-30)"
      ]
     },
     "execution_count": 55,
     "metadata": {},
     "output_type": "execute_result"
    }
   ],
   "source": [
    "js_distances = []\n",
    "for i in range(1000):\n",
    "    js = jensenshannon(\n",
    "        softmax(beam_score_log_probs[i], temperature=1),\n",
    "        softmax(baseline_log_probs[i], temperature=1),\n",
    "    )\n",
    "    js_distances.append(js)\n",
    "spearmanr(js_distances, df_scores[\"rougeL\"])"
   ]
  },
  {
   "cell_type": "code",
   "execution_count": 56,
   "metadata": {},
   "outputs": [
    {
     "data": {
      "text/plain": [
       "SignificanceResult(statistic=0.35424229417383385, pvalue=6.183140771729131e-31)"
      ]
     },
     "execution_count": 56,
     "metadata": {},
     "output_type": "execute_result"
    }
   ],
   "source": [
    "js_distances = []\n",
    "for i in range(1000):\n",
    "    js = jensenshannon(\n",
    "        softmax(beam_score_log_probs[i], temperature=1), np.array([1 / 100] * 100)\n",
    "    )\n",
    "    js_distances.append(js)\n",
    "spearmanr(js_distances, df_scores[\"rougeL\"])"
   ]
  },
  {
   "cell_type": "code",
   "execution_count": null,
   "metadata": {},
   "outputs": [],
   "source": []
  }
 ],
 "metadata": {
  "kernelspec": {
   "display_name": "Python 3",
   "language": "python",
   "name": "python3"
  },
  "language_info": {
   "codemirror_mode": {
    "name": "ipython",
    "version": 3
   },
   "file_extension": ".py",
   "mimetype": "text/x-python",
   "name": "python",
   "nbconvert_exporter": "python",
   "pygments_lexer": "ipython3",
   "version": "3.12.5"
  }
 },
 "nbformat": 4,
 "nbformat_minor": 2
}
