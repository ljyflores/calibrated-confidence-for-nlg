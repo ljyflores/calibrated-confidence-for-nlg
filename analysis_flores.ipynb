{
 "cells": [
  {
   "cell_type": "code",
   "execution_count": 5,
   "metadata": {},
   "outputs": [],
   "source": [
    "import pandas as pd\n",
    "from utils_analysis import prepare_scores\n",
    "import matplotlib.pyplot as plt\n",
    "import numpy as np"
   ]
  },
  {
   "cell_type": "code",
   "execution_count": 6,
   "metadata": {},
   "outputs": [],
   "source": [
    "import json\n",
    "\n",
    "temp = json.load(\n",
    "    open(\"results/bart/r3/bart-base_data_flores_checkpoint-1000_flores.json\", \"r\")\n",
    ")"
   ]
  },
  {
   "cell_type": "code",
   "execution_count": 8,
   "metadata": {},
   "outputs": [
    {
     "name": "stderr",
     "output_type": "stream",
     "text": [
      "/home/mila/f/floresl/beam-search/utils_analysis.py:37: ConstantInputWarning: An input array is constant; the correlation coefficient is not defined.\n",
      "  abs(spearmanr(ground_truth_score, confidence_score_dict[str(k)]).statistic)  # type: ignore\n"
     ]
    }
   ],
   "source": [
    "df = pd.read_csv(\"data/flores/test.csv\")\n",
    "\n",
    "# \"results/bart/r1/bart-base_data_flores_checkpoint-300_flores.json\",\n",
    "# \"results/bart/r2/bart-base_data_flores_checkpoint-300_flores.json\",\n",
    "# \"results/bart/r3/bart-base_data_flores_checkpoint-1000_flores.json\",\n",
    "# \"results/t5/r1/flan-t5-base_data_flores_checkpoint-300_flores.json\",\n",
    "# \"results/t5/r2/flan-t5-base_data_flores_checkpoint-300_flores.json\",\n",
    "# \"results/t5/r3/flan-t5-base_data_flores_checkpoint-1000_flores.json\",\n",
    "\n",
    "df_scores, beam_search_results = prepare_scores(\n",
    "    \"results/bart/r3/bart-base_data_flores_checkpoint-1000_flores.json\",\n",
    "    df[\"target\"],\n",
    "    \"bleu\",\n",
    ")"
   ]
  },
  {
   "cell_type": "code",
   "execution_count": 9,
   "metadata": {},
   "outputs": [
    {
     "data": {
      "text/plain": [
       "length_normalized_log_probs    0.264683\n",
       "mean_token_entropy            -0.201433\n",
       "dropout_bleu_variance          0.230362\n",
       "dropout_meteor_score           0.474040\n",
       "dropout_entropy               -0.307667\n",
       "dropout_disagreement           0.050713\n",
       "bleu                           1.000000\n",
       "beam_score_ratios_99           0.076925\n",
       "beam_score_log_probs_99        0.251105\n",
       "beam_score_top_k_99            0.262102\n",
       "beam_score_impt_wt_99         -0.262175\n",
       "Name: bleu, dtype: float64"
      ]
     },
     "execution_count": 9,
     "metadata": {},
     "output_type": "execute_result"
    }
   ],
   "source": [
    "df_scores.drop([\"sentences\", \"dropout_sentences\"], axis=1).corr(method=\"spearman\")[\n",
    "    \"bleu\"\n",
    "]"
   ]
  },
  {
   "cell_type": "code",
   "execution_count": 10,
   "metadata": {},
   "outputs": [],
   "source": [
    "beam_score_log_probs = pd.DataFrame(beam_search_results[\"beam_score_log_probs\"])\n",
    "worst_rouge_idxs = df_scores.sort_values(by=\"bleu\").index[:100]\n",
    "best_rouge_idxs = df_scores.sort_values(by=\"bleu\").index[::-1][:100]"
   ]
  },
  {
   "cell_type": "code",
   "execution_count": 11,
   "metadata": {},
   "outputs": [],
   "source": [
    "from utils_tail_probs import softmax, tail_index\n",
    "from scipy.stats import spearmanr"
   ]
  },
  {
   "cell_type": "code",
   "execution_count": 12,
   "metadata": {},
   "outputs": [
    {
     "data": {
      "text/plain": [
       "SignificanceResult(statistic=0.08024942468222501, pvalue=0.010653755454480881)"
      ]
     },
     "execution_count": 12,
     "metadata": {},
     "output_type": "execute_result"
    }
   ],
   "source": [
    "tail_indices = []\n",
    "for i in range(len(beam_score_log_probs)):\n",
    "    probs = softmax(beam_score_log_probs.iloc[i].to_numpy(), temperature=1)\n",
    "    tail_indices.append(tail_index(probs))\n",
    "\n",
    "spearmanr(tail_indices, df_scores[\"bleu\"])"
   ]
  },
  {
   "cell_type": "code",
   "execution_count": 13,
   "metadata": {},
   "outputs": [],
   "source": [
    "import json\n",
    "\n",
    "baseline_probs = json.load(\n",
    "    open(\n",
    "        \"/home/mila/f/floresl/beam-search/results/bart_baseline/facebook_bart-base_flores.json\",\n",
    "        \"r\",\n",
    "    )\n",
    ")"
   ]
  },
  {
   "cell_type": "code",
   "execution_count": 14,
   "metadata": {},
   "outputs": [],
   "source": [
    "baseline_log_probs = baseline_probs[\"beam_score_log_probs\"]"
   ]
  },
  {
   "cell_type": "code",
   "execution_count": 26,
   "metadata": {},
   "outputs": [],
   "source": [
    "k = 5"
   ]
  },
  {
   "cell_type": "code",
   "execution_count": 27,
   "metadata": {},
   "outputs": [
    {
     "data": {
      "text/plain": [
       "SignificanceResult(statistic=0.03521542197779425, pvalue=0.2630404162204451)"
      ]
     },
     "execution_count": 27,
     "metadata": {},
     "output_type": "execute_result"
    }
   ],
   "source": [
    "spearmanr(\n",
    "    [a - b for (a, b) in zip(beam_score_log_probs[str(k)], baseline_log_probs[str(k)])],\n",
    "    df_scores[\"bleu\"],\n",
    ")"
   ]
  },
  {
   "cell_type": "code",
   "execution_count": null,
   "metadata": {},
   "outputs": [],
   "source": []
  }
 ],
 "metadata": {
  "kernelspec": {
   "display_name": "Python 3",
   "language": "python",
   "name": "python3"
  },
  "language_info": {
   "codemirror_mode": {
    "name": "ipython",
    "version": 3
   },
   "file_extension": ".py",
   "mimetype": "text/x-python",
   "name": "python",
   "nbconvert_exporter": "python",
   "pygments_lexer": "ipython3",
   "version": "3.12.5"
  }
 },
 "nbformat": 4,
 "nbformat_minor": 2
}
