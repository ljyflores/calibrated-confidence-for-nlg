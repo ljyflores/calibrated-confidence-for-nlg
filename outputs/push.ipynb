{
 "cells": [
  {
   "cell_type": "code",
   "execution_count": 1,
   "metadata": {},
   "outputs": [],
   "source": [
    "import os\n",
    "\n",
    "from dotenv import load_dotenv\n",
    "from transformers import (\n",
    "    AutoModelForSeq2SeqLM,\n",
    "    AutoTokenizer,\n",
    ")\n",
    "\n",
    "load_dotenv()\n",
    "\n",
    "base_model_id = \"google/flan-t5-base_data/reddit/checkpoint-6000\"\n",
    "hf_repo_id = f\"ljyflores/{base_model_id.replace('/','-')}\""
   ]
  },
  {
   "cell_type": "code",
   "execution_count": 2,
   "metadata": {},
   "outputs": [],
   "source": [
    "model = AutoModelForSeq2SeqLM.from_pretrained(base_model_id)\n",
    "tokenizer = AutoTokenizer.from_pretrained(base_model_id)"
   ]
  },
  {
   "cell_type": "code",
   "execution_count": 3,
   "metadata": {},
   "outputs": [
    {
     "data": {
      "application/vnd.jupyter.widget-view+json": {
       "model_id": "2c03530412924970bca57fa17fe3cdfb",
       "version_major": 2,
       "version_minor": 0
      },
      "text/plain": [
       "model.safetensors:   0%|          | 0.00/990M [00:00<?, ?B/s]"
      ]
     },
     "metadata": {},
     "output_type": "display_data"
    },
    {
     "data": {
      "application/vnd.jupyter.widget-view+json": {
       "model_id": "c4b9c70e12054ec7a504579fcdc27d4d",
       "version_major": 2,
       "version_minor": 0
      },
      "text/plain": [
       "README.md:   0%|          | 0.00/5.17k [00:00<?, ?B/s]"
      ]
     },
     "metadata": {},
     "output_type": "display_data"
    },
    {
     "data": {
      "text/plain": [
       "CommitInfo(commit_url='https://huggingface.co/ljyflores/google-flan-t5-base_data-reddit-checkpoint-6000/commit/630f9ac9959093bd75db16dcaf2a6cf7fd37d9fa', commit_message='Upload tokenizer', commit_description='', oid='630f9ac9959093bd75db16dcaf2a6cf7fd37d9fa', pr_url=None, repo_url=RepoUrl('https://huggingface.co/ljyflores/google-flan-t5-base_data-reddit-checkpoint-6000', endpoint='https://huggingface.co', repo_type='model', repo_id='ljyflores/google-flan-t5-base_data-reddit-checkpoint-6000'), pr_revision=None, pr_num=None)"
      ]
     },
     "execution_count": 3,
     "metadata": {},
     "output_type": "execute_result"
    }
   ],
   "source": [
    "# Push the model and tokenizer to HuggingFace Hub\n",
    "model.push_to_hub(\n",
    "    hf_repo_id,\n",
    "    token=os.getenv(\"HF_TOKEN\"),\n",
    "    max_shard_size=\"5GB\",\n",
    "    safe_serialization=True,\n",
    ")\n",
    "tokenizer.push_to_hub(hf_repo_id, token=os.getenv(\"HF_TOKEN\"))"
   ]
  },
  {
   "cell_type": "code",
   "execution_count": null,
   "metadata": {},
   "outputs": [],
   "source": []
  },
  {
   "cell_type": "code",
   "execution_count": null,
   "metadata": {},
   "outputs": [],
   "source": []
  }
 ],
 "metadata": {
  "kernelspec": {
   "display_name": "llm",
   "language": "python",
   "name": "python3"
  },
  "language_info": {
   "codemirror_mode": {
    "name": "ipython",
    "version": 3
   },
   "file_extension": ".py",
   "mimetype": "text/x-python",
   "name": "python",
   "nbconvert_exporter": "python",
   "pygments_lexer": "ipython3",
   "version": "3.12.7"
  }
 },
 "nbformat": 4,
 "nbformat_minor": 2
}
