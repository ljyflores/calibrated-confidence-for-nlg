{
 "cells": [
  {
   "cell_type": "code",
   "execution_count": 1,
   "metadata": {},
   "outputs": [
    {
     "data": {
      "application/vnd.jupyter.widget-view+json": {
       "model_id": "28137fbab40a4797998d9ab671221e34",
       "version_major": 2,
       "version_minor": 0
      },
      "text/plain": [
       "Generating train split:   0%|          | 0/240566 [00:00<?, ? examples/s]"
      ]
     },
     "metadata": {},
     "output_type": "display_data"
    }
   ],
   "source": [
    "import pandas as pd\n",
    "import random\n",
    "from datasets import load_dataset\n",
    "\n",
    "ds = load_dataset(\"Hellisotherpeople/DebateSum\")[\"train\"]\n",
    "ds = (\n",
    "    ds.remove_columns(\n",
    "        set(ds.column_names).difference([\"Unnamed: 0\", \"Full-Document\", \"Abstract\"])\n",
    "    )\n",
    "    .rename_column(\"Unnamed: 0\", \"id\")\n",
    "    .rename_column(\"Full-Document\", \"source\")\n",
    "    .rename_column(\"Abstract\", \"target\")\n",
    ")"
   ]
  },
  {
   "cell_type": "code",
   "execution_count": 1,
   "metadata": {},
   "outputs": [],
   "source": [
    "idxs = list(range(ds.num_rows))\n",
    "random.shuffle(idxs)\n",
    "train_idxs = idxs[:5000]\n",
    "test_idxs = idxs[5000:6000]\n",
    "val_idxs = idxs[6000:6100]\n",
    "\n",
    "df_train = ds.select(train_idxs)\n",
    "df_test = ds.select(test_idxs)\n",
    "df_val = ds.select(val_idxs)\n",
    "\n",
    "df_train = pd.DataFrame(df_train)\n",
    "df_test = pd.DataFrame(df_test)\n",
    "df_val = pd.DataFrame(df_val)\n",
    "\n",
    "df_train.to_csv(\"train.csv\", index=False)\n",
    "df_test.to_csv(\"test.csv\", index=False)\n",
    "df_val.to_csv(\"val.csv\", index=False)"
   ]
  },
  {
   "cell_type": "code",
   "execution_count": null,
   "metadata": {},
   "outputs": [],
   "source": []
  }
 ],
 "metadata": {
  "kernelspec": {
   "display_name": "al",
   "language": "python",
   "name": "python3"
  },
  "language_info": {
   "codemirror_mode": {
    "name": "ipython",
    "version": 3
   },
   "file_extension": ".py",
   "mimetype": "text/x-python",
   "name": "python",
   "nbconvert_exporter": "python",
   "pygments_lexer": "ipython3",
   "version": "3.12.5"
  }
 },
 "nbformat": 4,
 "nbformat_minor": 2
}
