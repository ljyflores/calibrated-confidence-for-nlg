{
 "cells": [
  {
   "cell_type": "code",
   "execution_count": 1,
   "metadata": {},
   "outputs": [],
   "source": [
    "import pandas as pd\n",
    "import random\n",
    "from datasets import load_dataset\n",
    "\n",
    "ds = load_dataset(\"Hellisotherpeople/DebateSum\")[\"train\"]\n",
    "ds = (\n",
    "    ds.remove_columns(\n",
    "        set(ds.column_names).difference([\"Unnamed: 0\", \"Full-Document\", \"Abstract\"])\n",
    "    )\n",
    "    .rename_column(\"Unnamed: 0\", \"id\")\n",
    "    .rename_column(\"Full-Document\", \"source\")\n",
    "    .rename_column(\"Abstract\", \"target\")\n",
    ")\n",
    "\n",
    "idxs = list(range(ds.num_rows))\n",
    "random.shuffle(idxs)\n",
    "train_idxs = idxs[:5000]\n",
    "test_idxs = idxs[5000:6000]\n",
    "\n",
    "df_train = ds.select(train_idxs)\n",
    "df_test = ds.select(test_idxs)\n",
    "\n",
    "df_train = pd.DataFrame(df_train)\n",
    "df_test = pd.DataFrame(df_test)\n",
    "\n",
    "df_train.to_csv(\"train.csv\", index=False)\n",
    "df_test.to_csv(\"test.csv\", index=False)"
   ]
  },
  {
   "cell_type": "code",
   "execution_count": null,
   "metadata": {},
   "outputs": [],
   "source": []
  }
 ],
 "metadata": {
  "kernelspec": {
   "display_name": "al",
   "language": "python",
   "name": "python3"
  },
  "language_info": {
   "codemirror_mode": {
    "name": "ipython",
    "version": 3
   },
   "file_extension": ".py",
   "mimetype": "text/x-python",
   "name": "python",
   "nbconvert_exporter": "python",
   "pygments_lexer": "ipython3",
   "version": "3.12.5"
  }
 },
 "nbformat": 4,
 "nbformat_minor": 2
}
