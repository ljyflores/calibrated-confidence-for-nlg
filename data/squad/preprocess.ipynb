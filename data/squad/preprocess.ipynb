{
 "cells": [
  {
   "cell_type": "code",
   "execution_count": 1,
   "metadata": {},
   "outputs": [],
   "source": [
    "import pandas as pd\n",
    "import random\n",
    "\n",
    "splits = {\n",
    "    \"train\": \"plain_text/train-00000-of-00001.parquet\",\n",
    "    \"validation\": \"plain_text/validation-00000-of-00001.parquet\",\n",
    "}\n",
    "df_train = pd.read_parquet(\"hf://datasets/rajpurkar/squad/\" + splits[\"train\"])\n",
    "df_test = pd.read_parquet(\"hf://datasets/rajpurkar/squad/\" + splits[\"validation\"])\n",
    "\n",
    "df_train[\"source\"] = df_train.apply(\n",
    "    lambda row: f\"Context: {row['context']} | Question: {row['question']}\", axis=1\n",
    ")\n",
    "df_test[\"source\"] = df_test.apply(\n",
    "    lambda row: f\"Context: {row['context']} | Question: {row['question']}\", axis=1\n",
    ")\n",
    "df_train[\"target\"] = df_train[\"answers\"].apply(lambda d: d[\"text\"][0])\n",
    "df_test[\"target\"] = df_test[\"answers\"].apply(lambda d: d[\"text\"][0])"
   ]
  },
  {
   "cell_type": "code",
   "execution_count": 2,
   "metadata": {},
   "outputs": [],
   "source": [
    "df_train = df_train[[\"id\", \"source\", \"target\"]]\n",
    "df_test = df_test[[\"id\", \"source\", \"target\"]]"
   ]
  },
  {
   "cell_type": "code",
   "execution_count": 3,
   "metadata": {},
   "outputs": [],
   "source": [
    "idxs1 = list(range(len(df_train)))\n",
    "idxs2 = list(range(len(df_test)))\n",
    "random.shuffle(idxs1)\n",
    "random.shuffle(idxs2)\n",
    "\n",
    "df_train = df_train.iloc[idxs1]\n",
    "df_test = df_test.iloc[idxs2[:1000]]\n",
    "\n",
    "df_train.to_csv(\"train.csv\", index=False)\n",
    "df_test.to_csv(\"test.csv\", index=False)"
   ]
  },
  {
   "cell_type": "code",
   "execution_count": null,
   "metadata": {},
   "outputs": [],
   "source": []
  }
 ],
 "metadata": {
  "kernelspec": {
   "display_name": "Python 3",
   "language": "python",
   "name": "python3"
  },
  "language_info": {
   "codemirror_mode": {
    "name": "ipython",
    "version": 3
   },
   "file_extension": ".py",
   "mimetype": "text/x-python",
   "name": "python",
   "nbconvert_exporter": "python",
   "pygments_lexer": "ipython3",
   "version": "3.12.5"
  }
 },
 "nbformat": 4,
 "nbformat_minor": 2
}
