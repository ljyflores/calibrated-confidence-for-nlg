{
 "cells": [
  {
   "cell_type": "code",
   "execution_count": 1,
   "metadata": {},
   "outputs": [
    {
     "name": "stdout",
     "output_type": "stream",
     "text": [
      "--2025-02-13 02:58:44--  http://curtis.ml.cmu.edu/datasets/hotpot/hotpot_dev_fullwiki_v1.json\n",
      "Resolving curtis.ml.cmu.edu (curtis.ml.cmu.edu)... 128.2.204.193\n",
      "Connecting to curtis.ml.cmu.edu (curtis.ml.cmu.edu)|128.2.204.193|:80... connected.\n",
      "HTTP request sent, awaiting response... 200 OK\n",
      "Length: 47454698 (45M) [application/json]\n",
      "Saving to: ‘hotpot_dev_fullwiki_v1.json’\n",
      "\n",
      "hotpot_dev_fullwiki 100%[===================>]  45.26M  76.0MB/s    in 0.6s    \n",
      "\n",
      "2025-02-13 02:58:45 (76.0 MB/s) - ‘hotpot_dev_fullwiki_v1.json’ saved [47454698/47454698]\n",
      "\n"
     ]
    }
   ],
   "source": [
    "# !wget http://curtis.ml.cmu.edu/datasets/hotpot/hotpot_train_v1.1.json\n",
    "!wget http://curtis.ml.cmu.edu/datasets/hotpot/hotpot_dev_fullwiki_v1.json"
   ]
  },
  {
   "cell_type": "code",
   "execution_count": 2,
   "metadata": {},
   "outputs": [],
   "source": [
    "import json\n",
    "import pandas as pd\n",
    "import random\n",
    "\n",
    "from typing import List, Tuple"
   ]
  },
  {
   "cell_type": "code",
   "execution_count": 3,
   "metadata": {},
   "outputs": [],
   "source": [
    "def generate_context(input: Tuple[str, List[str]]):\n",
    "    title, context = input\n",
    "    return f\"{title}\\n{''.join(context)}\"\n",
    "\n",
    "\n",
    "def generate_contexts(contexts: List[Tuple[str, List[str]]]):\n",
    "    context_strings = \"\\n\\n\".join([generate_context(context) for context in contexts])\n",
    "    return f\"Contexts:\\n\\n{context_strings}\"\n",
    "\n",
    "\n",
    "def generate_question(question: str):\n",
    "    return f\"Question: {question}\""
   ]
  },
  {
   "cell_type": "code",
   "execution_count": 4,
   "metadata": {},
   "outputs": [],
   "source": [
    "df_train_raw = json.load(open(\"hotpot_train_v1.1.json\", \"rb\"))"
   ]
  },
  {
   "cell_type": "code",
   "execution_count": 4,
   "metadata": {},
   "outputs": [],
   "source": [
    "random.shuffle(df_train_raw)\n",
    "\n",
    "df_train = df_train_raw[:-1100]\n",
    "df_val = df_train_raw[-1100:-1000]\n",
    "df_test = df_train_raw[-1000:]\n",
    "\n",
    "df_train = pd.DataFrame(df_train)\n",
    "df_val = pd.DataFrame(df_val)\n",
    "df_test = pd.DataFrame(df_test)\n",
    "\n",
    "df_train[\"context\"] = df_train[\"context\"].apply(generate_contexts)\n",
    "df_val[\"context\"] = df_val[\"context\"].apply(generate_contexts)\n",
    "df_test[\"context\"] = df_test[\"context\"].apply(generate_contexts)\n",
    "\n",
    "df_train[\"question\"] = df_train[\"question\"].apply(generate_question)\n",
    "df_val[\"question\"] = df_val[\"question\"].apply(generate_question)\n",
    "df_test[\"question\"] = df_test[\"question\"].apply(generate_question)\n",
    "\n",
    "df_train[\"source\"] = df_train.apply(\n",
    "    lambda row: f\"{row['context']}\\n\\n{row['question']}\", axis=1\n",
    ")\n",
    "df_val[\"source\"] = df_val.apply(\n",
    "    lambda row: f\"{row['context']}\\n\\n{row['question']}\", axis=1\n",
    ")\n",
    "df_test[\"source\"] = df_test.apply(\n",
    "    lambda row: f\"{row['context']}\\n\\n{row['question']}\", axis=1\n",
    ")"
   ]
  },
  {
   "cell_type": "code",
   "execution_count": 5,
   "metadata": {},
   "outputs": [],
   "source": [
    "df_train = df_train.rename(columns={\"_id\": \"id\", \"answer\": \"target\"})\n",
    "df_val = df_val.rename(columns={\"_id\": \"id\", \"answer\": \"target\"})\n",
    "df_test = df_test.rename(columns={\"_id\": \"id\", \"answer\": \"target\"})"
   ]
  },
  {
   "cell_type": "code",
   "execution_count": 6,
   "metadata": {},
   "outputs": [],
   "source": [
    "df_train = df_train[[\"id\", \"source\", \"target\"]]\n",
    "df_val = df_val[[\"id\", \"source\", \"target\"]]\n",
    "df_test = df_test[[\"id\", \"source\", \"target\"]]"
   ]
  },
  {
   "cell_type": "code",
   "execution_count": 7,
   "metadata": {},
   "outputs": [],
   "source": [
    "df_train.to_csv(\"train.csv\", index=False)\n",
    "df_val.to_csv(\"val.csv\", index=False)\n",
    "df_test.to_csv(\"test.csv\", index=False)"
   ]
  },
  {
   "cell_type": "code",
   "execution_count": null,
   "metadata": {},
   "outputs": [],
   "source": []
  }
 ],
 "metadata": {
  "kernelspec": {
   "display_name": "Python 3",
   "language": "python",
   "name": "python3"
  },
  "language_info": {
   "codemirror_mode": {
    "name": "ipython",
    "version": 3
   },
   "file_extension": ".py",
   "mimetype": "text/x-python",
   "name": "python",
   "nbconvert_exporter": "python",
   "pygments_lexer": "ipython3",
   "version": "3.12.7"
  }
 },
 "nbformat": 4,
 "nbformat_minor": 2
}
