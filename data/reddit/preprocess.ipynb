{
 "cells": [
  {
   "cell_type": "code",
   "execution_count": 5,
   "metadata": {},
   "outputs": [],
   "source": [
    "import gzip\n",
    "import json\n",
    "import os\n",
    "import pandas as pd\n",
    "import requests\n",
    "import shutil\n",
    "\n",
    "def load_reddit_tifu(local_path: str = \"tifu_all_tokenized_and_filtered.json\"):\n",
    "    posts = []\n",
    "    with open(local_path, \"r\") as fp:\n",
    "        for line in fp:\n",
    "            posts.append(json.loads(line))\n",
    "    return posts\n",
    "\n",
    "def unzip_gz(filepath: str):\n",
    "    with gzip.open(filepath, \"rb\") as f_in:\n",
    "        with open(filepath.replace(\".gz\", \"\"), \"wb\") as f_out:\n",
    "            shutil.copyfileobj(f_in, f_out)\n",
    "    os.remove(filepath)\n",
    "\n",
    "def download_file(url: str):\n",
    "    local_filename = url.split(\"/\")[-1]\n",
    "    with requests.get(url, stream=True) as r:\n",
    "        with open(local_filename, \"wb\") as f:\n",
    "            shutil.copyfileobj(r.raw, f)\n",
    "\n",
    "    return local_filename"
   ]
  },
  {
   "cell_type": "code",
   "execution_count": 6,
   "metadata": {},
   "outputs": [
    {
     "data": {
      "text/plain": [
       "'tifu_all_tokenized_and_filtered.json.gz?download=true'"
      ]
     },
     "execution_count": 6,
     "metadata": {},
     "output_type": "execute_result"
    }
   ],
   "source": [
    "download_file(\n",
    "    \"https://huggingface.co/datasets/ctr4si/reddit_tifu/resolve/main/data/tifu_all_tokenized_and_filtered.json.gz\"\n",
    ")\n",
    "unzip_gz(\"tifu_all_tokenized_and_filtered.json.gz\")"
   ]
  },
  {
   "cell_type": "code",
   "execution_count": 17,
   "metadata": {},
   "outputs": [],
   "source": [
    "posts = load_reddit_tifu()\n",
    "df = pd.DataFrame.from_records(posts)\n",
    "\n",
    "df = df[[\"id\", \"selftext_without_tldr\", \"tldr\"]].rename(columns={\"selftext_without_tldr\": \"source\", \"tldr\": \"target\"})\n",
    "df = df.sample(frac=1).reset_index(drop=True)\n",
    "df_train = df[:20000]\n",
    "df_test = df[-1000:]\n",
    "\n",
    "df_train.to_csv(\"train.csv\", index=False)\n",
    "df_test.to_csv(\"test.csv\", index=False)"
   ]
  },
  {
   "cell_type": "code",
   "execution_count": null,
   "metadata": {},
   "outputs": [],
   "source": []
  }
 ],
 "metadata": {
  "kernelspec": {
   "display_name": "llm",
   "language": "python",
   "name": "python3"
  },
  "language_info": {
   "codemirror_mode": {
    "name": "ipython",
    "version": 3
   },
   "file_extension": ".py",
   "mimetype": "text/x-python",
   "name": "python",
   "nbconvert_exporter": "python",
   "pygments_lexer": "ipython3",
   "version": "3.12.7"
  }
 },
 "nbformat": 4,
 "nbformat_minor": 2
}
