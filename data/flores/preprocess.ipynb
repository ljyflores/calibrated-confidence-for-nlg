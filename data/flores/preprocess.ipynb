{
 "cells": [
  {
   "cell_type": "code",
   "execution_count": 1,
   "metadata": {},
   "outputs": [],
   "source": [
    "import pandas as pd"
   ]
  },
  {
   "cell_type": "code",
   "execution_count": 2,
   "metadata": {},
   "outputs": [],
   "source": [
    "def read_file(path: str):\n",
    "    with open(path) as file:\n",
    "        return [line.rstrip() for line in file]\n",
    "\n",
    "\n",
    "def generate_dataframe(source: list[str], target: list[str]):\n",
    "    return pd.DataFrame(\n",
    "        {\n",
    "            \"id\": list(range(len(source))),\n",
    "            \"source\": [f\"Translate English to Filipino: {s}\" for s in source],\n",
    "            \"target\": target,\n",
    "        }\n",
    "    )"
   ]
  },
  {
   "cell_type": "code",
   "execution_count": 3,
   "metadata": {},
   "outputs": [],
   "source": [
    "fil_test = read_file(\"devtest.fil_Latn\")\n",
    "eng_test = read_file(\"devtest.eng_Latn\")\n",
    "fil_train = read_file(\"dev.fil_Latn\")\n",
    "eng_train = read_file(\"dev.eng_Latn\")"
   ]
  },
  {
   "cell_type": "code",
   "execution_count": 4,
   "metadata": {},
   "outputs": [],
   "source": [
    "df_train = generate_dataframe(eng_train, fil_train)\n",
    "df_test = generate_dataframe(eng_test, fil_test)"
   ]
  },
  {
   "cell_type": "code",
   "execution_count": 5,
   "metadata": {},
   "outputs": [],
   "source": [
    "df_train.to_csv(\"train.csv\", index=False)\n",
    "df_test.to_csv(\"test.csv\", index=False)"
   ]
  },
  {
   "cell_type": "code",
   "execution_count": null,
   "metadata": {},
   "outputs": [],
   "source": []
  }
 ],
 "metadata": {
  "kernelspec": {
   "display_name": "Python 3",
   "language": "python",
   "name": "python3"
  },
  "language_info": {
   "codemirror_mode": {
    "name": "ipython",
    "version": 3
   },
   "file_extension": ".py",
   "mimetype": "text/x-python",
   "name": "python",
   "nbconvert_exporter": "python",
   "pygments_lexer": "ipython3",
   "version": "3.12.5"
  }
 },
 "nbformat": 4,
 "nbformat_minor": 2
}
