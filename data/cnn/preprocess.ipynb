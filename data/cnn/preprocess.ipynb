{
 "cells": [
  {
   "cell_type": "code",
   "execution_count": null,
   "metadata": {},
   "outputs": [],
   "source": [
    "from datasets import load_dataset\n",
    "\n",
    "ds = load_dataset(\"abisee/cnn_dailymail\", \"3.0.0\")"
   ]
  },
  {
   "cell_type": "code",
   "execution_count": 2,
   "metadata": {},
   "outputs": [],
   "source": [
    "df_train = (\n",
    "    ds[\"train\"]\n",
    "    .to_pandas()\n",
    "    .sample(frac=1)\n",
    "    .iloc[:2000]\n",
    "    .rename(columns={\"article\": \"source\", \"highlights\": \"target\"})\n",
    ")\n",
    "df_val = (\n",
    "    ds[\"validation\"]\n",
    "    .to_pandas()\n",
    "    .sample(frac=1)\n",
    "    .iloc[:100]\n",
    "    .rename(columns={\"article\": \"source\", \"highlights\": \"target\"})\n",
    ")\n",
    "df_test = (\n",
    "    ds[\"test\"]\n",
    "    .to_pandas()\n",
    "    .sample(frac=1)\n",
    "    .iloc[:1000]\n",
    "    .rename(columns={\"article\": \"source\", \"highlights\": \"target\"})\n",
    ")"
   ]
  },
  {
   "cell_type": "code",
   "execution_count": 3,
   "metadata": {},
   "outputs": [],
   "source": [
    "df_train.to_csv(\"train.csv\", index=False)\n",
    "df_val.to_csv(\"val.csv\", index=False)\n",
    "df_test.to_csv(\"test.csv\", index=False)"
   ]
  },
  {
   "cell_type": "code",
   "execution_count": null,
   "metadata": {},
   "outputs": [],
   "source": []
  }
 ],
 "metadata": {
  "kernelspec": {
   "display_name": "al",
   "language": "python",
   "name": "python3"
  },
  "language_info": {
   "codemirror_mode": {
    "name": "ipython",
    "version": 3
   },
   "file_extension": ".py",
   "mimetype": "text/x-python",
   "name": "python",
   "nbconvert_exporter": "python",
   "pygments_lexer": "ipython3",
   "version": "3.12.5"
  }
 },
 "nbformat": 4,
 "nbformat_minor": 2
}
