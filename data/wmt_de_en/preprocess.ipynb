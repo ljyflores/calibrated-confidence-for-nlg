{
 "cells": [
  {
   "cell_type": "code",
   "execution_count": null,
   "metadata": {},
   "outputs": [],
   "source": [
    "from datasets import load_dataset\n",
    "\n",
    "ds = load_dataset(\"wmt/wmt17\", \"de-en\")"
   ]
  },
  {
   "cell_type": "code",
   "execution_count": 11,
   "metadata": {},
   "outputs": [],
   "source": [
    "df_train = ds[\"train\"].to_pandas().sample(frac=1).iloc[:2000].reset_index()\n",
    "df_val = ds[\"validation\"].to_pandas().sample(frac=1).iloc[:100].reset_index()\n",
    "df_test = ds[\"test\"].to_pandas().sample(frac=1).iloc[:1000].reset_index()"
   ]
  },
  {
   "cell_type": "code",
   "execution_count": 12,
   "metadata": {},
   "outputs": [],
   "source": [
    "df_train[\"source\"] = df_train[\"translation\"].apply(lambda d: d[\"de\"])\n",
    "df_train[\"target\"] = df_train[\"translation\"].apply(lambda d: d[\"en\"])\n",
    "df_test[\"source\"] = df_test[\"translation\"].apply(lambda d: d[\"de\"])\n",
    "df_test[\"target\"] = df_test[\"translation\"].apply(lambda d: d[\"en\"])\n",
    "df_val[\"source\"] = df_val[\"translation\"].apply(lambda d: d[\"de\"])\n",
    "df_val[\"target\"] = df_val[\"translation\"].apply(lambda d: d[\"en\"])"
   ]
  },
  {
   "cell_type": "code",
   "execution_count": 14,
   "metadata": {},
   "outputs": [],
   "source": [
    "df_train = df_train.drop(\"translation\", axis=1)\n",
    "df_test = df_test.drop(\"translation\", axis=1)\n",
    "df_val = df_val.drop(\"translation\", axis=1)"
   ]
  },
  {
   "cell_type": "code",
   "execution_count": 17,
   "metadata": {},
   "outputs": [],
   "source": [
    "df_train.to_csv(\"train.csv\", index=False)\n",
    "df_test.to_csv(\"test.csv\", index=False)\n",
    "df_val.to_csv(\"val.csv\", index=False)"
   ]
  }
 ],
 "metadata": {
  "kernelspec": {
   "display_name": "al",
   "language": "python",
   "name": "python3"
  },
  "language_info": {
   "codemirror_mode": {
    "name": "ipython",
    "version": 3
   },
   "file_extension": ".py",
   "mimetype": "text/x-python",
   "name": "python",
   "nbconvert_exporter": "python",
   "pygments_lexer": "ipython3",
   "version": "3.12.5"
  }
 },
 "nbformat": 4,
 "nbformat_minor": 2
}
