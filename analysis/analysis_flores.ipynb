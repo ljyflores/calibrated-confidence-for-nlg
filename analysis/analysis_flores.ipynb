{
 "cells": [
  {
   "cell_type": "code",
   "execution_count": null,
   "metadata": {},
   "outputs": [],
   "source": [
    "import pandas as pd\n",
    "from utils_analysis import prepare_scores"
   ]
  },
  {
   "cell_type": "code",
   "execution_count": 5,
   "metadata": {},
   "outputs": [
    {
     "name": "stdout",
     "output_type": "stream",
     "text": [
      "float division by zero\n",
      "float division by zero\n",
      "float division by zero\n"
     ]
    },
    {
     "name": "stderr",
     "output_type": "stream",
     "text": [
      "/home/mila/f/floresl/beam-search/utils_analysis.py:45: ConstantInputWarning: An input array is constant; the correlation coefficient is not defined.\n",
      "  abs(spearmanr(ground_truth_score, confidence_score_dict[str(k)]).statistic)  # type: ignore\n"
     ]
    }
   ],
   "source": [
    "df = pd.read_csv(\"data/flores/test.csv\")\n",
    "\n",
    "results = prepare_scores(\n",
    "    \"results/flan-t5-base_data_flores_checkpoint-1000_flores.json\",\n",
    "    df[\"target\"],\n",
    "    \"bleu\",\n",
    ")"
   ]
  },
  {
   "cell_type": "code",
   "execution_count": 7,
   "metadata": {},
   "outputs": [
    {
     "data": {
      "text/plain": [
       "length_normalized_log_probs    0.080417\n",
       "mean_token_entropy            -0.069656\n",
       "dropout_bleu_variance          0.407076\n",
       "dropout_meteor_score           0.477018\n",
       "dropout_entropy               -0.226441\n",
       "dropout_disagreement           0.055734\n",
       "bleu                           1.000000\n",
       "beam_score_ratios_99           0.222818\n",
       "beam_score_log_probs_99        0.020158\n",
       "beam_score_top_k_99            0.050499\n",
       "beam_score_impt_wt_99         -0.050880\n",
       "Name: bleu, dtype: float64"
      ]
     },
     "execution_count": 7,
     "metadata": {},
     "output_type": "execute_result"
    }
   ],
   "source": [
    "results.scores_dataframe.drop([\"sentences\", \"dropout_sentences\"], axis=1).corr(\n",
    "    method=\"spearman\"\n",
    ")[\"bleu\"]"
   ]
  }
 ],
 "metadata": {
  "kernelspec": {
   "display_name": "Python 3",
   "language": "python",
   "name": "python3"
  },
  "language_info": {
   "codemirror_mode": {
    "name": "ipython",
    "version": 3
   },
   "file_extension": ".py",
   "mimetype": "text/x-python",
   "name": "python",
   "nbconvert_exporter": "python",
   "pygments_lexer": "ipython3",
   "version": "3.12.5"
  }
 },
 "nbformat": 4,
 "nbformat_minor": 2
}
