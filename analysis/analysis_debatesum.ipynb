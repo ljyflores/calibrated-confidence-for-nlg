{
 "cells": [
  {
   "cell_type": "code",
   "execution_count": 1,
   "metadata": {},
   "outputs": [
    {
     "name": "stderr",
     "output_type": "stream",
     "text": [
      "[nltk_data] Downloading package wordnet to\n",
      "[nltk_data]     /home/mila/f/floresl/nltk_data...\n",
      "[nltk_data]   Package wordnet is already up-to-date!\n",
      "[nltk_data] Downloading package punkt_tab to\n",
      "[nltk_data]     /home/mila/f/floresl/nltk_data...\n",
      "[nltk_data]   Package punkt_tab is already up-to-date!\n",
      "[nltk_data] Downloading package omw-1.4 to\n",
      "[nltk_data]     /home/mila/f/floresl/nltk_data...\n",
      "[nltk_data]   Package omw-1.4 is already up-to-date!\n"
     ]
    }
   ],
   "source": [
    "import pandas as pd\n",
    "from utils_analysis import prepare_scores\n",
    "import matplotlib.pyplot as plt\n",
    "import numpy as np\n",
    "from utils_tail_probs import softmax, tail_index\n",
    "from scipy.stats import spearmanr\n",
    "from scipy.spatial.distance import jensenshannon\n",
    "import json\n",
    "from src.eval import calculate_bleu\n",
    "from src.eval import calculate_rouge_single"
   ]
  },
  {
   "cell_type": "code",
   "execution_count": 3,
   "metadata": {},
   "outputs": [
    {
     "name": "stderr",
     "output_type": "stream",
     "text": [
      "/home/mila/f/floresl/beam-search/utils_analysis.py:45: ConstantInputWarning: An input array is constant; the correlation coefficient is not defined.\n",
      "  abs(spearmanr(ground_truth_score, confidence_score_dict[str(k)]).statistic)  # type: ignore\n"
     ]
    }
   ],
   "source": [
    "df = pd.read_csv(\"data/debatesum/test.csv\")\n",
    "\n",
    "# \"results/bart/r1/bart-base_data_debatesum_checkpoint-1500_debatesum.json\",\n",
    "# \"results/bart/r2/bart-base_data_debatesum_checkpoint-1500_debatesum.json\",\n",
    "# \"results/bart/r3/bart-base_data_debatesum_checkpoint-1500_debatesum.json\",\n",
    "# \"results/t5/r1/flan-t5-base_data_debatesum_checkpoint-1500_debatesum.json\",\n",
    "# \"results/t5/r2/flan-t5-base_data_debatesum_checkpoint-1500_debatesum.json\",\n",
    "# \"results/t5/r3/flan-t5-base_data_debatesum_checkpoint-1500_debatesum.json\",\n",
    "\n",
    "results = prepare_scores(\n",
    "    \"results/flan-t5-base_data_debatesum_checkpoint-1500_debatesum.json\",\n",
    "    df[\"target\"],\n",
    "    \"rougeL\",\n",
    ")\n",
    "\n",
    "baseline_probs = json.load(\n",
    "    open(\n",
    "        \"/home/mila/f/floresl/beam-search/results/bart_baseline/facebook_bart-base_debatesum.json\",\n",
    "        \"r\",\n",
    "    )\n",
    ")"
   ]
  },
  {
   "cell_type": "code",
   "execution_count": 7,
   "metadata": {},
   "outputs": [
    {
     "data": {
      "text/plain": [
       "length_normalized_log_probs   -0.247232\n",
       "mean_token_entropy             0.247735\n",
       "dropout_bleu_variance          0.060817\n",
       "dropout_meteor_score           0.038216\n",
       "dropout_entropy               -0.037358\n",
       "dropout_disagreement           0.024891\n",
       "rougeL                         1.000000\n",
       "beam_score_ratios_94           0.295760\n",
       "beam_score_log_probs_94       -0.257581\n",
       "beam_score_top_k_94           -0.253596\n",
       "beam_score_impt_wt_94          0.253572\n",
       "Name: rougeL, dtype: float64"
      ]
     },
     "execution_count": 7,
     "metadata": {},
     "output_type": "execute_result"
    }
   ],
   "source": [
    "results.scores_dataframe.drop([\"sentences\", \"dropout_sentences\"], axis=1).corr(\n",
    "    method=\"spearman\"\n",
    ")[\"rougeL\"]"
   ]
  },
  {
   "cell_type": "markdown",
   "metadata": {},
   "source": [
    "### Tail Index"
   ]
  },
  {
   "cell_type": "code",
   "execution_count": null,
   "metadata": {},
   "outputs": [],
   "source": [
    "beam_score_log_probs = pd.DataFrame(results.scores_by_beam[\"beam_score_log_probs\"])"
   ]
  },
  {
   "cell_type": "code",
   "execution_count": 9,
   "metadata": {},
   "outputs": [
    {
     "data": {
      "text/plain": [
       "SignificanceResult(statistic=0.3538730177374212, pvalue=7.185307233847468e-31)"
      ]
     },
     "execution_count": 9,
     "metadata": {},
     "output_type": "execute_result"
    }
   ],
   "source": [
    "tail_indices = []\n",
    "for i in range(len(beam_score_log_probs)):\n",
    "    probs = softmax(beam_score_log_probs.iloc[i].to_numpy(), temperature=1)\n",
    "    tail_indices.append(tail_index(probs))\n",
    "\n",
    "spearmanr(tail_indices, results.scores_dataframe[\"rougeL\"])"
   ]
  },
  {
   "cell_type": "markdown",
   "metadata": {},
   "source": [
    "### Baseline Metrics"
   ]
  },
  {
   "cell_type": "code",
   "execution_count": 11,
   "metadata": {},
   "outputs": [],
   "source": [
    "baseline_log_probs = baseline_probs[\"beam_score_log_probs\"]\n",
    "baseline_log_probs = pd.DataFrame(baseline_log_probs).values\n",
    "\n",
    "beam_score_log_probs = beam_score_log_probs.values"
   ]
  },
  {
   "cell_type": "code",
   "execution_count": 13,
   "metadata": {},
   "outputs": [
    {
     "data": {
      "text/plain": [
       "SignificanceResult(statistic=0.24480883017997826, pvalue=4.106737226095836e-15)"
      ]
     },
     "execution_count": 13,
     "metadata": {},
     "output_type": "execute_result"
    }
   ],
   "source": [
    "js_distances = []\n",
    "for i in range(1000):\n",
    "    js = jensenshannon(\n",
    "        softmax(beam_score_log_probs[i], temperature=1),\n",
    "        softmax(baseline_log_probs[i], temperature=1),\n",
    "    )\n",
    "    js_distances.append(js)\n",
    "spearmanr(js_distances, results.scores_dataframe[\"rougeL\"])"
   ]
  },
  {
   "cell_type": "code",
   "execution_count": 14,
   "metadata": {},
   "outputs": [
    {
     "data": {
      "text/plain": [
       "SignificanceResult(statistic=0.35409802690685954, pvalue=6.5570065826067755e-31)"
      ]
     },
     "execution_count": 14,
     "metadata": {},
     "output_type": "execute_result"
    }
   ],
   "source": [
    "js_distances = []\n",
    "for i in range(1000):\n",
    "    js = jensenshannon(\n",
    "        softmax(beam_score_log_probs[i], temperature=1), np.array([1 / 100] * 100)\n",
    "    )\n",
    "    js_distances.append(js)\n",
    "spearmanr(js_distances, results.scores_dataframe[\"rougeL\"])"
   ]
  },
  {
   "cell_type": "markdown",
   "metadata": {},
   "source": [
    "### Oracle Methods"
   ]
  },
  {
   "cell_type": "code",
   "execution_count": 15,
   "metadata": {},
   "outputs": [],
   "source": [
    "beam_search_sentences = results.sentences"
   ]
  },
  {
   "cell_type": "code",
   "execution_count": 17,
   "metadata": {},
   "outputs": [],
   "source": [
    "def get_list_of_scores(target: str, predictions: list[str]):\n",
    "    return list(\n",
    "        map(\n",
    "            lambda pred: calculate_rouge_single(pred, target)[\"rougeL\"],\n",
    "            predictions,\n",
    "        )\n",
    "    )"
   ]
  },
  {
   "cell_type": "code",
   "execution_count": 18,
   "metadata": {},
   "outputs": [
    {
     "name": "stderr",
     "output_type": "stream",
     "text": [
      "/tmp/ipykernel_1034621/2886242348.py:10: ConstantInputWarning: An input array is constant; the correlation coefficient is not defined.\n",
      "  corr_w_score = spearmanr(beam_score_log_probs[i], quality_scores).statistic\n"
     ]
    }
   ],
   "source": [
    "weighted_avgs = list[float]()\n",
    "corr_w_scores = list[float]()\n",
    "for i in range(1000):\n",
    "    quality_scores = get_list_of_scores(df[\"target\"][i], results.sentences[i])\n",
    "    weighted_avg = (\n",
    "        float(np.average(beam_score_log_probs[i], weights=quality_scores))\n",
    "        if sum(quality_scores) > 0\n",
    "        else 0\n",
    "    )\n",
    "    corr_w_score = spearmanr(beam_score_log_probs[i], quality_scores).statistic\n",
    "    if str(corr_w_score) == \"nan\":\n",
    "        corr_w_score = 0.0\n",
    "    weighted_avgs.append(weighted_avg)\n",
    "    corr_w_scores.append(corr_w_score)"
   ]
  },
  {
   "cell_type": "code",
   "execution_count": 19,
   "metadata": {},
   "outputs": [
    {
     "data": {
      "text/plain": [
       "SignificanceResult(statistic=-0.33360440929429996, pvalue=2.0250808238005607e-27)"
      ]
     },
     "execution_count": 19,
     "metadata": {},
     "output_type": "execute_result"
    }
   ],
   "source": [
    "spearmanr(weighted_avgs, results.scores_dataframe[\"rougeL\"])"
   ]
  },
  {
   "cell_type": "code",
   "execution_count": 20,
   "metadata": {},
   "outputs": [
    {
     "data": {
      "text/plain": [
       "SignificanceResult(statistic=0.15082459022271166, pvalue=1.6598639615661723e-06)"
      ]
     },
     "execution_count": 20,
     "metadata": {},
     "output_type": "execute_result"
    }
   ],
   "source": [
    "spearmanr(corr_w_scores, results.scores_dataframe[\"rougeL\"])"
   ]
  }
 ],
 "metadata": {
  "kernelspec": {
   "display_name": "Python 3",
   "language": "python",
   "name": "python3"
  },
  "language_info": {
   "codemirror_mode": {
    "name": "ipython",
    "version": 3
   },
   "file_extension": ".py",
   "mimetype": "text/x-python",
   "name": "python",
   "nbconvert_exporter": "python",
   "pygments_lexer": "ipython3",
   "version": "3.12.5"
  }
 },
 "nbformat": 4,
 "nbformat_minor": 2
}
