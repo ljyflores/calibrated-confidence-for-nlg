{
 "cells": [
  {
   "cell_type": "code",
   "execution_count": 8,
   "metadata": {},
   "outputs": [],
   "source": [
    "import random\n",
    "from scipy.stats import pearsonr, mannwhitneyu\n",
    "\n",
    "\n",
    "def test_correlations(x: list[float], y: list[float], z: list[float]):\n",
    "    assert len(x) == len(y) == len(z)\n",
    "    corr_y_list = list[float]()\n",
    "    corr_z_list = list[float]()\n",
    "    NUM_ITERS = 10000\n",
    "    for _ in range(NUM_ITERS):\n",
    "        selected_indices = random.choices(list(range(len(x))), k=1000)\n",
    "        selected_x = [x[idx] for idx in selected_indices]\n",
    "        selected_y = [y[idx] for idx in selected_indices]\n",
    "        selected_z = [z[idx] for idx in selected_indices]\n",
    "        corr_y_list.append(pearsonr(selected_x, selected_y).statistic)  # type: ignore\n",
    "        corr_z_list.append(pearsonr(selected_x, selected_z).statistic)  # type: ignore\n",
    "    return mannwhitneyu(x=corr_y_list, y=corr_z_list, alternative=\"less\")"
   ]
  },
  {
   "cell_type": "code",
   "execution_count": null,
   "metadata": {},
   "outputs": [],
   "source": []
  }
 ],
 "metadata": {
  "kernelspec": {
   "display_name": "al",
   "language": "python",
   "name": "python3"
  },
  "language_info": {
   "codemirror_mode": {
    "name": "ipython",
    "version": 3
   },
   "file_extension": ".py",
   "mimetype": "text/x-python",
   "name": "python",
   "nbconvert_exporter": "python",
   "pygments_lexer": "ipython3",
   "version": "3.12.5"
  }
 },
 "nbformat": 4,
 "nbformat_minor": 2
}
