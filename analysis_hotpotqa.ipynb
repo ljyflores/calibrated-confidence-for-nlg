{
 "cells": [
  {
   "cell_type": "code",
   "execution_count": 1,
   "metadata": {},
   "outputs": [
    {
     "name": "stderr",
     "output_type": "stream",
     "text": [
      "[nltk_data] Downloading package wordnet to\n",
      "[nltk_data]     /home/mila/f/floresl/nltk_data...\n",
      "[nltk_data]   Package wordnet is already up-to-date!\n",
      "[nltk_data] Downloading package punkt_tab to\n",
      "[nltk_data]     /home/mila/f/floresl/nltk_data...\n",
      "[nltk_data]   Package punkt_tab is already up-to-date!\n",
      "[nltk_data] Downloading package omw-1.4 to\n",
      "[nltk_data]     /home/mila/f/floresl/nltk_data...\n",
      "[nltk_data]   Package omw-1.4 is already up-to-date!\n"
     ]
    }
   ],
   "source": [
    "import pandas as pd\n",
    "from utils_analysis import prepare_scores\n",
    "import matplotlib.pyplot as plt\n",
    "import numpy as np\n",
    "from utils_tail_probs import softmax, tail_index\n",
    "from scipy.stats import spearmanr\n",
    "from scipy.spatial.distance import jensenshannon\n",
    "import json\n",
    "from src.eval import calculate_bleu, calculate_rouge_single, calculate_f1_score"
   ]
  },
  {
   "cell_type": "code",
   "execution_count": 14,
   "metadata": {},
   "outputs": [
    {
     "name": "stderr",
     "output_type": "stream",
     "text": [
      "/home/mila/f/floresl/beam-search/utils_analysis.py:45: ConstantInputWarning: An input array is constant; the correlation coefficient is not defined.\n",
      "  abs(spearmanr(ground_truth_score, confidence_score_dict[str(k)]).statistic)  # type: ignore\n"
     ]
    }
   ],
   "source": [
    "df = pd.read_csv(\"data/hotpotqa/test.csv\")\n",
    "\n",
    "# \"results/bart/r1/bart-base_data_hotpotqa_checkpoint-26835_hotpotqa.json\",\n",
    "# \"results/bart/r2/bart-base_data_hotpotqa_checkpoint-26835_hotpotqa.json\",\n",
    "# \"results/bart/r3/bart-base_data_hotpotqa_checkpoint-26835_hotpotqa.json\",\n",
    "# \"results/t5/r1/flan-t5-base_data_hotpotqa_checkpoint-26835_hotpotqa.json\",\n",
    "# \"results/t5/r2/flan-t5-base_data_hotpotqa_checkpoint-26835_hotpotqa.json\",\n",
    "# \"results/t5/r3/flan-t5-base_data_hotpotqa_checkpoint-26835_hotpotqa.json\",\n",
    "\n",
    "results = prepare_scores(\n",
    "    \"/home/mila/f/floresl/beam-search/results/flan-t5-base_data_hotpotqa_checkpoint-26835_hotpotqa.json\",\n",
    "    df[\"target\"],\n",
    "    \"f1\",\n",
    ")\n",
    "\n",
    "baseline_probs = json.load(\n",
    "    open(\n",
    "        \"/home/mila/f/floresl/beam-search/results/t5_baseline/google_flan-t5-base_hotpotqa.json\",\n",
    "        \"r\",\n",
    "    )\n",
    ")"
   ]
  },
  {
   "cell_type": "code",
   "execution_count": 15,
   "metadata": {},
   "outputs": [
    {
     "data": {
      "text/plain": [
       "length_normalized_log_probs    0.301710\n",
       "mean_token_entropy            -0.152407\n",
       "dropout_bleu_variance         -0.000331\n",
       "dropout_meteor_score           0.269517\n",
       "dropout_entropy               -0.367446\n",
       "dropout_disagreement          -0.232327\n",
       "f1                             1.000000\n",
       "beam_score_ratios_90           0.429086\n",
       "beam_score_log_probs_90       -0.233861\n",
       "beam_score_top_k_90           -0.230181\n",
       "beam_score_impt_wt_90          0.229047\n",
       "Name: f1, dtype: float64"
      ]
     },
     "execution_count": 15,
     "metadata": {},
     "output_type": "execute_result"
    }
   ],
   "source": [
    "results.scores_dataframe.drop([\"sentences\", \"dropout_sentences\"], axis=1).corr(\n",
    "    method=\"spearman\"\n",
    ")[\"f1\"]"
   ]
  },
  {
   "cell_type": "markdown",
   "metadata": {},
   "source": [
    "### Tail Index"
   ]
  },
  {
   "cell_type": "code",
   "execution_count": 16,
   "metadata": {},
   "outputs": [],
   "source": [
    "beam_score_log_probs = pd.DataFrame(results.scores_by_beam[\"beam_score_log_probs\"])"
   ]
  },
  {
   "cell_type": "code",
   "execution_count": 17,
   "metadata": {},
   "outputs": [
    {
     "data": {
      "text/plain": [
       "SignificanceResult(statistic=0.45084327032516935, pvalue=3.188911085633083e-51)"
      ]
     },
     "execution_count": 17,
     "metadata": {},
     "output_type": "execute_result"
    }
   ],
   "source": [
    "tail_indices = []\n",
    "for i in range(len(beam_score_log_probs)):\n",
    "    probs = softmax(beam_score_log_probs.iloc[i].to_numpy(), temperature=0.05)\n",
    "    tail_indices.append(tail_index(probs))\n",
    "\n",
    "spearmanr(tail_indices, results.scores_dataframe[\"f1\"])"
   ]
  },
  {
   "cell_type": "markdown",
   "metadata": {},
   "source": [
    "### Baseline Metrics"
   ]
  },
  {
   "cell_type": "code",
   "execution_count": 18,
   "metadata": {},
   "outputs": [],
   "source": [
    "baseline_log_probs = baseline_probs[\"beam_score_log_probs\"]\n",
    "baseline_log_probs = pd.DataFrame(baseline_log_probs).values\n",
    "\n",
    "beam_score_log_probs = beam_score_log_probs.values"
   ]
  },
  {
   "cell_type": "code",
   "execution_count": 19,
   "metadata": {},
   "outputs": [
    {
     "data": {
      "text/plain": [
       "SignificanceResult(statistic=0.3658134678021087, pvalue=5.0446810980216386e-33)"
      ]
     },
     "execution_count": 19,
     "metadata": {},
     "output_type": "execute_result"
    }
   ],
   "source": [
    "js_distances = []\n",
    "for i in range(1000):\n",
    "    js = jensenshannon(\n",
    "        softmax(beam_score_log_probs[i], temperature=0.05),\n",
    "        softmax(baseline_log_probs[i], temperature=0.05),\n",
    "    )\n",
    "    js_distances.append(js)\n",
    "spearmanr(js_distances, results.scores_dataframe[\"f1\"])"
   ]
  },
  {
   "cell_type": "code",
   "execution_count": 20,
   "metadata": {},
   "outputs": [
    {
     "data": {
      "text/plain": [
       "SignificanceResult(statistic=0.4450505436905848, pvalue=8.245428996916145e-50)"
      ]
     },
     "execution_count": 20,
     "metadata": {},
     "output_type": "execute_result"
    }
   ],
   "source": [
    "js_distances = []\n",
    "for i in range(1000):\n",
    "    js = jensenshannon(\n",
    "        softmax(beam_score_log_probs[i], temperature=0.05), np.array([1 / 100] * 100)\n",
    "    )\n",
    "    js_distances.append(js)\n",
    "spearmanr(js_distances, results.scores_dataframe[\"f1\"])"
   ]
  },
  {
   "cell_type": "markdown",
   "metadata": {},
   "source": [
    "### Oracle Methods"
   ]
  },
  {
   "cell_type": "code",
   "execution_count": 21,
   "metadata": {},
   "outputs": [],
   "source": [
    "beam_search_sentences = results.sentences"
   ]
  },
  {
   "cell_type": "code",
   "execution_count": 22,
   "metadata": {},
   "outputs": [],
   "source": [
    "def get_list_of_scores(target: str, predictions: list[str]):\n",
    "    return list(\n",
    "        map(\n",
    "            lambda pred: calculate_f1_score(pred, target),\n",
    "            predictions,\n",
    "        )\n",
    "    )"
   ]
  },
  {
   "cell_type": "code",
   "execution_count": 23,
   "metadata": {},
   "outputs": [
    {
     "name": "stderr",
     "output_type": "stream",
     "text": [
      "/tmp/ipykernel_1348594/2886242348.py:10: ConstantInputWarning: An input array is constant; the correlation coefficient is not defined.\n",
      "  corr_w_score = spearmanr(beam_score_log_probs[i], quality_scores).statistic\n"
     ]
    }
   ],
   "source": [
    "weighted_avgs = list[float]()\n",
    "corr_w_scores = list[float]()\n",
    "for i in range(1000):\n",
    "    quality_scores = get_list_of_scores(df[\"target\"][i], results.sentences[i])\n",
    "    weighted_avg = (\n",
    "        float(np.average(beam_score_log_probs[i], weights=quality_scores))\n",
    "        if sum(quality_scores) > 0\n",
    "        else 0\n",
    "    )\n",
    "    corr_w_score = spearmanr(beam_score_log_probs[i], quality_scores).statistic\n",
    "    if str(corr_w_score) == \"nan\":\n",
    "        corr_w_score = 0.0\n",
    "    weighted_avgs.append(weighted_avg)\n",
    "    corr_w_scores.append(corr_w_score)"
   ]
  },
  {
   "cell_type": "code",
   "execution_count": 24,
   "metadata": {},
   "outputs": [
    {
     "data": {
      "text/plain": [
       "SignificanceResult(statistic=-0.46469880589198126, pvalue=1.0290937237817967e-54)"
      ]
     },
     "execution_count": 24,
     "metadata": {},
     "output_type": "execute_result"
    }
   ],
   "source": [
    "spearmanr(weighted_avgs, results.scores_dataframe[\"f1\"])"
   ]
  },
  {
   "cell_type": "code",
   "execution_count": 25,
   "metadata": {},
   "outputs": [
    {
     "data": {
      "text/plain": [
       "SignificanceResult(statistic=0.24082241522347897, pvalue=1.1647447611793204e-14)"
      ]
     },
     "execution_count": 25,
     "metadata": {},
     "output_type": "execute_result"
    }
   ],
   "source": [
    "spearmanr(corr_w_scores, results.scores_dataframe[\"f1\"])"
   ]
  },
  {
   "cell_type": "code",
   "execution_count": null,
   "metadata": {},
   "outputs": [],
   "source": []
  }
 ],
 "metadata": {
  "kernelspec": {
   "display_name": "Python 3",
   "language": "python",
   "name": "python3"
  },
  "language_info": {
   "codemirror_mode": {
    "name": "ipython",
    "version": 3
   },
   "file_extension": ".py",
   "mimetype": "text/x-python",
   "name": "python",
   "nbconvert_exporter": "python",
   "pygments_lexer": "ipython3",
   "version": "3.12.5"
  }
 },
 "nbformat": 4,
 "nbformat_minor": 2
}
